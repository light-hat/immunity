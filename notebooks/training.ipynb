{
 "cells": [
  {
   "cell_type": "markdown",
   "id": "831a1524-4daf-49f2-adad-5eb6b3113ead",
   "metadata": {},
   "source": [
    "# Трансферное обучение модели BERT для задачи интерактивного выявления уязвимостей веб-приложений\n",
    "\n",
    "Здесь описывается процесс обучения и валидации модели машинного обучения, а также отсюда модель была опубликована на Hugging Face Hub."
   ]
  },
  {
   "cell_type": "markdown",
   "id": "98c419c0-793d-4368-91e9-8cb229fe9b2f",
   "metadata": {},
   "source": [
    "Установка зависимостей:"
   ]
  },
  {
   "cell_type": "code",
   "execution_count": 1,
   "id": "3ff7d958-8480-448b-b791-263ca1008c60",
   "metadata": {},
   "outputs": [
    {
     "name": "stdout",
     "output_type": "stream",
     "text": [
      "Requirement already satisfied: transformers in ./venv/lib/python3.10/site-packages (4.48.1)\n",
      "Requirement already satisfied: datasets in ./venv/lib/python3.10/site-packages (3.2.0)\n",
      "Requirement already satisfied: huggingface_hub in ./venv/lib/python3.10/site-packages (0.27.1)\n",
      "Requirement already satisfied: torch in ./venv/lib/python3.10/site-packages (2.5.1)\n",
      "Requirement already satisfied: pandas in ./venv/lib/python3.10/site-packages (2.2.3)\n",
      "Requirement already satisfied: scikit-learn in ./venv/lib/python3.10/site-packages (1.6.1)\n",
      "Requirement already satisfied: matplotlib in ./venv/lib/python3.10/site-packages (3.10.0)\n",
      "Requirement already satisfied: safetensors>=0.4.1 in ./venv/lib/python3.10/site-packages (from transformers) (0.5.2)\n",
      "Requirement already satisfied: packaging>=20.0 in ./venv/lib/python3.10/site-packages (from transformers) (24.2)\n",
      "Requirement already satisfied: filelock in ./venv/lib/python3.10/site-packages (from transformers) (3.17.0)\n",
      "Requirement already satisfied: tokenizers<0.22,>=0.21 in ./venv/lib/python3.10/site-packages (from transformers) (0.21.0)\n",
      "Requirement already satisfied: numpy>=1.17 in ./venv/lib/python3.10/site-packages (from transformers) (2.2.2)\n",
      "Requirement already satisfied: pyyaml>=5.1 in ./venv/lib/python3.10/site-packages (from transformers) (6.0.2)\n",
      "Requirement already satisfied: requests in ./venv/lib/python3.10/site-packages (from transformers) (2.32.3)\n",
      "Requirement already satisfied: tqdm>=4.27 in ./venv/lib/python3.10/site-packages (from transformers) (4.67.1)\n",
      "Requirement already satisfied: regex!=2019.12.17 in ./venv/lib/python3.10/site-packages (from transformers) (2024.11.6)\n",
      "Requirement already satisfied: xxhash in ./venv/lib/python3.10/site-packages (from datasets) (3.5.0)\n",
      "Requirement already satisfied: aiohttp in ./venv/lib/python3.10/site-packages (from datasets) (3.11.11)\n",
      "Requirement already satisfied: multiprocess<0.70.17 in ./venv/lib/python3.10/site-packages (from datasets) (0.70.16)\n",
      "Requirement already satisfied: pyarrow>=15.0.0 in ./venv/lib/python3.10/site-packages (from datasets) (19.0.0)\n",
      "Requirement already satisfied: fsspec[http]<=2024.9.0,>=2023.1.0 in ./venv/lib/python3.10/site-packages (from datasets) (2024.9.0)\n",
      "Requirement already satisfied: dill<0.3.9,>=0.3.0 in ./venv/lib/python3.10/site-packages (from datasets) (0.3.8)\n",
      "Requirement already satisfied: typing-extensions>=3.7.4.3 in ./venv/lib/python3.10/site-packages (from huggingface_hub) (4.12.2)\n",
      "Requirement already satisfied: nvidia-nvjitlink-cu12==12.4.127 in ./venv/lib/python3.10/site-packages (from torch) (12.4.127)\n",
      "Requirement already satisfied: triton==3.1.0 in ./venv/lib/python3.10/site-packages (from torch) (3.1.0)\n",
      "Requirement already satisfied: nvidia-cuda-runtime-cu12==12.4.127 in ./venv/lib/python3.10/site-packages (from torch) (12.4.127)\n",
      "Requirement already satisfied: jinja2 in ./venv/lib/python3.10/site-packages (from torch) (3.1.5)\n",
      "Requirement already satisfied: nvidia-cusparse-cu12==12.3.1.170 in ./venv/lib/python3.10/site-packages (from torch) (12.3.1.170)\n",
      "Requirement already satisfied: sympy==1.13.1 in ./venv/lib/python3.10/site-packages (from torch) (1.13.1)\n",
      "Requirement already satisfied: nvidia-cuda-nvrtc-cu12==12.4.127 in ./venv/lib/python3.10/site-packages (from torch) (12.4.127)\n",
      "Requirement already satisfied: nvidia-cuda-cupti-cu12==12.4.127 in ./venv/lib/python3.10/site-packages (from torch) (12.4.127)\n",
      "Requirement already satisfied: nvidia-cublas-cu12==12.4.5.8 in ./venv/lib/python3.10/site-packages (from torch) (12.4.5.8)\n",
      "Requirement already satisfied: nvidia-nccl-cu12==2.21.5 in ./venv/lib/python3.10/site-packages (from torch) (2.21.5)\n",
      "Requirement already satisfied: nvidia-cudnn-cu12==9.1.0.70 in ./venv/lib/python3.10/site-packages (from torch) (9.1.0.70)\n",
      "Requirement already satisfied: nvidia-cusolver-cu12==11.6.1.9 in ./venv/lib/python3.10/site-packages (from torch) (11.6.1.9)\n",
      "Requirement already satisfied: nvidia-nvtx-cu12==12.4.127 in ./venv/lib/python3.10/site-packages (from torch) (12.4.127)\n",
      "Requirement already satisfied: networkx in ./venv/lib/python3.10/site-packages (from torch) (3.4.2)\n",
      "Requirement already satisfied: nvidia-curand-cu12==10.3.5.147 in ./venv/lib/python3.10/site-packages (from torch) (10.3.5.147)\n",
      "Requirement already satisfied: nvidia-cufft-cu12==11.2.1.3 in ./venv/lib/python3.10/site-packages (from torch) (11.2.1.3)\n",
      "Requirement already satisfied: mpmath<1.4,>=1.1.0 in ./venv/lib/python3.10/site-packages (from sympy==1.13.1->torch) (1.3.0)\n",
      "Requirement already satisfied: python-dateutil>=2.8.2 in ./venv/lib/python3.10/site-packages (from pandas) (2.9.0.post0)\n",
      "Requirement already satisfied: tzdata>=2022.7 in ./venv/lib/python3.10/site-packages (from pandas) (2025.1)\n",
      "Requirement already satisfied: pytz>=2020.1 in ./venv/lib/python3.10/site-packages (from pandas) (2024.2)\n",
      "Requirement already satisfied: scipy>=1.6.0 in ./venv/lib/python3.10/site-packages (from scikit-learn) (1.15.1)\n",
      "Requirement already satisfied: joblib>=1.2.0 in ./venv/lib/python3.10/site-packages (from scikit-learn) (1.4.2)\n",
      "Requirement already satisfied: threadpoolctl>=3.1.0 in ./venv/lib/python3.10/site-packages (from scikit-learn) (3.5.0)\n",
      "Requirement already satisfied: contourpy>=1.0.1 in ./venv/lib/python3.10/site-packages (from matplotlib) (1.3.1)\n",
      "Requirement already satisfied: fonttools>=4.22.0 in ./venv/lib/python3.10/site-packages (from matplotlib) (4.55.7)\n",
      "Requirement already satisfied: pyparsing>=2.3.1 in ./venv/lib/python3.10/site-packages (from matplotlib) (3.2.1)\n",
      "Requirement already satisfied: kiwisolver>=1.3.1 in ./venv/lib/python3.10/site-packages (from matplotlib) (1.4.8)\n",
      "Requirement already satisfied: pillow>=8 in ./venv/lib/python3.10/site-packages (from matplotlib) (11.1.0)\n",
      "Requirement already satisfied: cycler>=0.10 in ./venv/lib/python3.10/site-packages (from matplotlib) (0.12.1)\n",
      "Requirement already satisfied: yarl<2.0,>=1.17.0 in ./venv/lib/python3.10/site-packages (from aiohttp->datasets) (1.18.3)\n",
      "Requirement already satisfied: async-timeout<6.0,>=4.0 in ./venv/lib/python3.10/site-packages (from aiohttp->datasets) (5.0.1)\n",
      "Requirement already satisfied: frozenlist>=1.1.1 in ./venv/lib/python3.10/site-packages (from aiohttp->datasets) (1.5.0)\n",
      "Requirement already satisfied: propcache>=0.2.0 in ./venv/lib/python3.10/site-packages (from aiohttp->datasets) (0.2.1)\n",
      "Requirement already satisfied: aiosignal>=1.1.2 in ./venv/lib/python3.10/site-packages (from aiohttp->datasets) (1.3.2)\n",
      "Requirement already satisfied: aiohappyeyeballs>=2.3.0 in ./venv/lib/python3.10/site-packages (from aiohttp->datasets) (2.4.4)\n",
      "Requirement already satisfied: multidict<7.0,>=4.5 in ./venv/lib/python3.10/site-packages (from aiohttp->datasets) (6.1.0)\n",
      "Requirement already satisfied: attrs>=17.3.0 in ./venv/lib/python3.10/site-packages (from aiohttp->datasets) (25.1.0)\n",
      "Requirement already satisfied: six>=1.5 in ./venv/lib/python3.10/site-packages (from python-dateutil>=2.8.2->pandas) (1.17.0)\n",
      "Requirement already satisfied: urllib3<3,>=1.21.1 in ./venv/lib/python3.10/site-packages (from requests->transformers) (2.3.0)\n",
      "Requirement already satisfied: idna<4,>=2.5 in ./venv/lib/python3.10/site-packages (from requests->transformers) (3.10)\n",
      "Requirement already satisfied: certifi>=2017.4.17 in ./venv/lib/python3.10/site-packages (from requests->transformers) (2024.12.14)\n",
      "Requirement already satisfied: charset-normalizer<4,>=2 in ./venv/lib/python3.10/site-packages (from requests->transformers) (3.4.1)\n",
      "Requirement already satisfied: MarkupSafe>=2.0 in ./venv/lib/python3.10/site-packages (from jinja2->torch) (3.0.2)\n"
     ]
    }
   ],
   "source": [
    "!pip install transformers datasets huggingface_hub torch pandas scikit-learn matplotlib"
   ]
  },
  {
   "cell_type": "markdown",
   "id": "f2e399dc-7326-4d6a-8495-6692a7bd9380",
   "metadata": {},
   "source": [
    "Импортируем нужные библиотеки:"
   ]
  },
  {
   "cell_type": "code",
   "execution_count": 2,
   "id": "06fc3a50-27cf-4da6-87a8-c10e3d575c28",
   "metadata": {},
   "outputs": [],
   "source": [
    "from datasets import load_dataset\n",
    "from transformers import BertTokenizer, BertModel\n",
    "import torch\n",
    "from torch import nn\n",
    "from torch.utils.data import TensorDataset, DataLoader\n",
    "from sklearn.model_selection import train_test_split"
   ]
  },
  {
   "cell_type": "markdown",
   "id": "10dfffdf-6efd-42d8-950a-6c563ccc8b4c",
   "metadata": {},
   "source": [
    "Для аппаратного ускорения обучения и валидации модели используется графический процессор (GPU). Определяем, доступен ли он:"
   ]
  },
  {
   "cell_type": "code",
   "execution_count": 3,
   "id": "5def3c97-3969-42fb-bfc1-df5828adffe3",
   "metadata": {},
   "outputs": [
    {
     "name": "stdout",
     "output_type": "stream",
     "text": [
      "GPU доступен: Tesla T4\n"
     ]
    }
   ],
   "source": [
    "if torch.cuda.is_available():\n",
    "    print(f\"GPU доступен: {torch.cuda.get_device_name(0)}\")\n",
    "else:\n",
    "    print(\"GPU недоступен, используется CPU\")"
   ]
  },
  {
   "cell_type": "markdown",
   "id": "c9d7ae3b-f398-443c-9516-60099c9761c9",
   "metadata": {},
   "source": [
    "Для обучения используем GPU, если он доступен. Если нет - используем центральный процессор (CPU)."
   ]
  },
  {
   "cell_type": "code",
   "execution_count": 4,
   "id": "946a7724-8771-4d07-b34b-b60e451e50d9",
   "metadata": {},
   "outputs": [],
   "source": [
    "device = torch.device(\"cuda\" if torch.cuda.is_available() else \"cpu\")"
   ]
  },
  {
   "cell_type": "markdown",
   "id": "681c6fd0-b917-4f42-8be7-3cc329469e52",
   "metadata": {},
   "source": [
    "Загружаем собранный датасет с Hugging Face Hub:"
   ]
  },
  {
   "cell_type": "code",
   "execution_count": 5,
   "id": "fc856bc2-d6a3-4185-b964-16a37d7767c6",
   "metadata": {},
   "outputs": [],
   "source": [
    "dataset = load_dataset(\"l1ghth4t/iast-python3-django-flask\")"
   ]
  },
  {
   "cell_type": "markdown",
   "id": "7e2597fd-5b45-4a8d-b349-7ee4df652686",
   "metadata": {},
   "source": [
    "Отображаем первые записи обучающего и валидационного набора данных:"
   ]
  },
  {
   "cell_type": "code",
   "execution_count": 6,
   "id": "65db8e95-eb45-4f5a-a5c4-2f76ef640dd3",
   "metadata": {},
   "outputs": [
    {
     "name": "stdout",
     "output_type": "stream",
     "text": [
      "{'text': '{\\'context_id\\': 490, \\'vulnerable\\': True, \\'processing\\': False, \\'request\\': {\\'url\\': \\'http://www.martinez.com/main/app/taghome.htm\\', \\'method\\': \\'DELETE\\', \\'headers\\': {\\'HOST\\': \\'127.0.0.1:5000\\', \\'USER_AGENT\\': \\'Mozilla/5.0 (X11; Ubuntu; Linux x86_64; rv:134.0) Gecko/20100101 Firefox/134.0\\', \\'ACCEPT\\': \\'text/html,application/xhtml+xml,application/xml;q=0.9,*/*;q=0.8\\', \\'ACCEPT_LANGUAGE\\': \\'en-US,en;q=0.5\\', \\'ACCEPT_ENCODING\\': \\'gzip, deflate, br, zstd\\', \\'REFERER\\': \\'http://127.0.0.1:5000/guestbook\\', \\'CONNECTION\\': \\'keep-alive\\', \\'COOKIE\\': \\'csrftoken=7GgBqVlBL6WuGdfu3e6EBXep8N5vFiVm; grafana_session=54c841e9cb2f4956a7c791efd284d120; grafana_session_expiry=1735995560; user_id=2; session_token=b3c634c91e1711c794704a031918a34b; session=eyJjc3JmX3Rva2VuIjoiMzNkNDNlNjA2MDhiMjdjZjBiMGI1Yzk3NWU4MDExZjRjYWMxMzRhNyJ9.Z5GBRA.Q8r4qzslZbU-6Y0h-x9F551fn1A\\', \\'UPGRADE_INSECURE_REQUESTS\\': \\'1\\', \\'SEC_FETCH_DEST\\': \\'document\\', \\'SEC_FETCH_MODE\\': \\'navigate\\', \\'SEC_FETCH_SITE\\': \\'same-origin\\', \\'SEC_FETCH_USER\\': \\'?1\\', \\'PRIORITY\\': \\'u=0, i\\', \\'Content-Type\\': \\'application/x-www-form-urlencoded\\', \\'User-Agent\\': \\'Mozilla/5.0 (iPod; U; CPU iPhone OS 4_0 like Mac OS X; nn-NO) AppleWebKit/531.5.4 (KHTML, like Gecko) Version/3.0.5 Mobile/8B111 Safari/6531.5.4\\'}, \\'body\\': b\\'csrfmiddlewaretoken=94cca464-d9fe-4ed3-ac18-0d383828ddfb&newpass1=fsIXN4mt&newpass2=Mzy2Jh0O\\'}, \\'control_flow\\': {0: \"search_query = request.args.get(\\'q\\')\", 1: \\'comments = db.get(search_query)\\', 2: \\'db = init()\\', 3: \"db = sqlite3.connect(\\'data.db\\')\", 4: \"db.cursor().execute(\\'CREATE TABLE IF NOT EXISTS comments (id INTEGER PRIMARY KEY, comment TEXT, date TEXT)\\')\", 5: \\'return db\\', 6: \\'results = []\\', 7: \"for(comment, date) in db.cursor().execute(\\'SELECT comment, date FROM comments\\').fetchall():\", 8: \\'if query is None or query in comment:\\', 9: \\'results.append((comment, date))\\', 10: \"for(comment, date) in db.cursor().execute(\\'SELECT comment, date FROM comments\\').fetchall():\", 11: \\'return results\\', 12: \\'form = forms.AddCommentForm()\\', 13: \\'if form.validate_on_submit():\\', 14: \"return render_template(\\'guestbook.html\\', form=form, comments=comments, search_query=search_query)\", 15: \\'\\', 16: \\'<head>\\', 17: \\'<!-- Required meta tags -->\\', 18: \\'<meta charset=\"utf-8\">\\', 19: \\'<meta name=\"viewport\" content=\"width=device-width, initial-scale=1, shrink-to-fit=no\">\\', 20: \\'\\', 21: \\'<title>My Guestbook</title>\\', 22: \\'\\', 23: \\'<!-- Bootstrap CSS -->\\', 24: \\'<link rel=\"stylesheet\" href=\"https://stackpath.bootstrapcdn.com/bootstrap/4.5.0/css/bootstrap.min.css\"\\', 25: \\'integrity=\"sha384-9aIt2nRpC12Uk9gS9baDl411NQApFmC26EwAOH8WgZl5MYYxFfc+NcPb1dKGj7Sk\" crossorigin=\"anonymous\">\\', 26: \\'\\', 27: \\'<!-- Styling -->\\', 28: \\'<link rel=\"stylesheet\" type=\"text/css\" href=\"../static/styles/guestbook.css\">\\', 29: \\'<link rel=\"icon\" type=\"image/x-icon\" href=\"../static/guestbook.ico\">\\', 30: \\'</head>\\', 31: \\'\\', 32: \\'<div class=\"content center\">\\', 33: \\'<div class=\"container-fluid\">\\', 34: \\'<form action=\"{{ url_for(\\\\\\'guestbook\\\\\\') }}\" method=\"post\">\\', 35: \\'{{ form.csrf_token }}\\', 36: \\'<div class=\"row\">\\', 37: \\'<h3 class=\"form-header\">Add a new Guestbook entry 😊</h3>\\', 38: \\'<div class=\"col\">\\', 39: \\'{{ form.comment(class=\"form-control form-comment\") }}\\', 40: \\'</div>\\', 41: \\'<div class=\"col\">\\', 42: \\'\\', 43: \\'<p class=\"search-hint\">Psssst.. you can even <a href=\"{{ url_for(\\\\\\'guestbook\\\\\\', q=\\\\\\'test\\\\\\') }}\"\\', 44: \\'class=\"search-hint-anchor\">search</a> through the\\', 45: \\'comments 🤫</p>\\', 46: \\'\\', 47: \\'{% if not search_query %}\\', 48: \\'<h3 class=\"comment-header\">Current guestbook entries:</h3>\\', 49: \\'{% else %}\\', 50: \\'<h3 class=\"comment-header\">Results for \"{{ search_query }}\"</h3>\\', 51: \\'<p class=\"search-hint\">Psssst.. you can even <a href=\"{{ url_for(\\\\\\'guestbook\\\\\\', q=\\\\\\'test\\\\\\') }}\"\\', 52: \\'{% endif %}\\', 53: \\'\\', 54: \\'{% for comment, date in comments %}\\', 55: \\'<div class=\"comment\">\\'}, \\'response\\': {\\'status_code\\': \\'400\\', \\'headers\\': {\\'Content-Type\\': \\'application/json\\', \\'Content-Length\\': \\'1867\\', \\'Vary\\': \\'Cookie\\'}}}', 'label': 'CWE-79', '__index_level_0__': 96479}\n",
      "{'text': '{\\'context_id\\': 584, \\'vulnerable\\': False, \\'processing\\': False, \\'request\\': {\\'url\\': \\'https://www.lopez.com/tags/bloghomepage.htm\\', \\'method\\': \\'GET\\', \\'headers\\': {\\'Content-Length\\': \\'\\', \\'Content-Type\\': \\'application/json\\', \\'Host\\': \\'127.0.0.1:8000\\', \\'User-Agent\\': \\'Opera/8.31.(X11; Linux i686; zh-TW) Presto/2.9.176 Version/12.00\\', \\'Accept\\': \\'text/html,application/xhtml+xml,application/xml;q=0.9,*/*;q=0.8\\', \\'Accept-Language\\': \\'en-US,en;q=0.5\\', \\'Accept-Encoding\\': \\'gzip, deflate, br, zstd\\', \\'Connection\\': \\'keep-alive\\', \\'Cookie\\': \\'csrftoken=xS2ciXzOB5kBCsBWeIhb3oLLTfA0HgBh; grafana_session=54c841e9cb2f4956a7c791efd284d120; grafana_session_expiry=1735995560; sessionid=8nsk97ci2qtbp9ib2ffyvw4qqd8p6vwm\\', \\'Upgrade-Insecure-Requests\\': \\'1\\', \\'Sec-Fetch-Dest\\': \\'document\\', \\'Sec-Fetch-Mode\\': \\'navigate\\', \\'Sec-Fetch-Site\\': \\'none\\', \\'Sec-Fetch-User\\': \\'?1\\', \\'Priority\\': \\'u=0, i\\'}, \\'body\\': b\\'csrfmiddlewaretoken=56046ac8-198c-4cb5-b940-72d57898b804&newpass1=IQR1frHt&newpass2=gwJFNfgl\\'}, \\'control_flow\\': {0: \\'profile = get_object_or_404(UserProfile, id=profile_id)\\', 1: \"\\'phone_number\\': profile.phone_number,\", 2: \\'context = {\\', 3: \"return HttpResponse(f\\'{context}\\')\"}, \\'response\\': {\\'status_code\\': \\'301\\', \\'headers\\': {\\'Content-Type\\': \\'application/json\\'}}}', 'label': 'CWE-639', '__index_level_0__': 1863}\n"
     ]
    }
   ],
   "source": [
    "print(dataset[\"train\"][0])\n",
    "print(dataset[\"validation\"][0])"
   ]
  },
  {
   "cell_type": "markdown",
   "id": "9d75fee9-9af2-4377-a52b-219ce62928d6",
   "metadata": {},
   "source": [
    "Извлекаем метки из датасета:"
   ]
  },
  {
   "cell_type": "code",
   "execution_count": 7,
   "id": "67aff8d8-154c-422c-8e20-15ff61b23ed6",
   "metadata": {},
   "outputs": [
    {
     "data": {
      "text/plain": [
       "{'CWE-16': 0,\n",
       " 'CWE-352': 1,\n",
       " 'CWE-400': 2,\n",
       " 'CWE-502': 3,\n",
       " 'CWE-639': 4,\n",
       " 'CWE-77': 5,\n",
       " 'CWE-79': 6,\n",
       " 'CWE-89': 7,\n",
       " 'CWE-918': 8,\n",
       " 'Clean': 9}"
      ]
     },
     "execution_count": 7,
     "metadata": {},
     "output_type": "execute_result"
    }
   ],
   "source": [
    "unique_labels = list(set(dataset[\"train\"][\"label\"]))  # Собираем уникальные метки из тренировочного набора\n",
    "unique_labels.sort()  # Сортируем для консистентности\n",
    "label2id = {label: idx for idx, label in enumerate(unique_labels)}  # Создаём отображение строк -> индексы\n",
    "id2label = {idx: label for label, idx in label2id.items()}  # Обратное отображение\n",
    "label2id"
   ]
  },
  {
   "cell_type": "markdown",
   "id": "ee1192cf-496d-4345-84fe-3c1f5adf6170",
   "metadata": {},
   "source": [
    "Загружаем токенизатор модели BERT:"
   ]
  },
  {
   "cell_type": "code",
   "execution_count": 8,
   "id": "bb02fc6c-a33d-4463-a1ab-839130bbf160",
   "metadata": {},
   "outputs": [],
   "source": [
    "tokenizer = BertTokenizer.from_pretrained(\"bert-base-uncased\")"
   ]
  },
  {
   "cell_type": "markdown",
   "id": "b9291c34-45cb-4b06-81f9-114b02ffd538",
   "metadata": {},
   "source": [
    "Создаём функцию для преобразования записи в нужный формат. Токенизируем каждую часть контекста выполнения запроса (`request`, `control_flow`, `response`) и сохраняем метку."
   ]
  },
  {
   "cell_type": "code",
   "execution_count": 9,
   "id": "d9ed4211-eef2-46ca-8ab1-aebc85ea37f0",
   "metadata": {},
   "outputs": [],
   "source": [
    "import ast\n",
    "\n",
    "def preprocess(example):\n",
    "    json_example = ast.literal_eval(example['text'])\n",
    "    # Обработка блока Request\n",
    "    request_text = f\"URL: {json_example['request']['url']}\\n\" \\\n",
    "                   f\"Method: {json_example['request']['method']}\\n\" \\\n",
    "                   f\"Headers: {json_example['request']['headers']}\\n\" \\\n",
    "                   f\"Body: {json_example['request']['body']}\"\n",
    "    request_tokens = tokenizer(request_text, truncation=True, padding=\"max_length\", max_length=512, return_tensors=\"pt\")\n",
    "\n",
    "    # Обработка блока Control Flow\n",
    "    control_flow_text = \"\\n\".join([f\"{k}: {v}\" for k, v in json_example['control_flow'].items()])\n",
    "    control_flow_tokens = tokenizer(control_flow_text, truncation=True, padding=\"max_length\", max_length=512, return_tensors=\"pt\")\n",
    "\n",
    "    # Обработка блока Response\n",
    "    response_text = f\"Status Code: {json_example['response']['status_code']}\\n\" \\\n",
    "                    f\"Headers: {json_example['response']['headers']}\"\n",
    "    response_tokens = tokenizer(response_text, truncation=True, padding=\"max_length\", max_length=512, return_tensors=\"pt\")\n",
    "\n",
    "    return {\n",
    "        \"request_input_ids\": request_tokens[\"input_ids\"].squeeze(0),\n",
    "        \"request_attention_mask\": request_tokens[\"attention_mask\"].squeeze(0),\n",
    "        \"control_flow_input_ids\": control_flow_tokens[\"input_ids\"].squeeze(0),\n",
    "        \"control_flow_attention_mask\": control_flow_tokens[\"attention_mask\"].squeeze(0),\n",
    "        \"response_input_ids\": response_tokens[\"input_ids\"].squeeze(0),\n",
    "        \"response_attention_mask\": response_tokens[\"attention_mask\"].squeeze(0),\n",
    "        \"label\": label2id[example[\"label\"]]\n",
    "    }"
   ]
  },
  {
   "cell_type": "markdown",
   "id": "9065c643-2895-42b9-9f14-2b1edf69ab06",
   "metadata": {},
   "source": [
    "Преобразуем датасет с помощью функции `map`:"
   ]
  },
  {
   "cell_type": "code",
   "execution_count": 10,
   "id": "63c05eb0-2a04-4a36-ba2f-82b307d2e85a",
   "metadata": {},
   "outputs": [
    {
     "name": "stdout",
     "output_type": "stream",
     "text": [
      "{'text': '{\\'context_id\\': 490, \\'vulnerable\\': True, \\'processing\\': False, \\'request\\': {\\'url\\': \\'http://www.martinez.com/main/app/taghome.htm\\', \\'method\\': \\'DELETE\\', \\'headers\\': {\\'HOST\\': \\'127.0.0.1:5000\\', \\'USER_AGENT\\': \\'Mozilla/5.0 (X11; Ubuntu; Linux x86_64; rv:134.0) Gecko/20100101 Firefox/134.0\\', \\'ACCEPT\\': \\'text/html,application/xhtml+xml,application/xml;q=0.9,*/*;q=0.8\\', \\'ACCEPT_LANGUAGE\\': \\'en-US,en;q=0.5\\', \\'ACCEPT_ENCODING\\': \\'gzip, deflate, br, zstd\\', \\'REFERER\\': \\'http://127.0.0.1:5000/guestbook\\', \\'CONNECTION\\': \\'keep-alive\\', \\'COOKIE\\': \\'csrftoken=7GgBqVlBL6WuGdfu3e6EBXep8N5vFiVm; grafana_session=54c841e9cb2f4956a7c791efd284d120; grafana_session_expiry=1735995560; user_id=2; session_token=b3c634c91e1711c794704a031918a34b; session=eyJjc3JmX3Rva2VuIjoiMzNkNDNlNjA2MDhiMjdjZjBiMGI1Yzk3NWU4MDExZjRjYWMxMzRhNyJ9.Z5GBRA.Q8r4qzslZbU-6Y0h-x9F551fn1A\\', \\'UPGRADE_INSECURE_REQUESTS\\': \\'1\\', \\'SEC_FETCH_DEST\\': \\'document\\', \\'SEC_FETCH_MODE\\': \\'navigate\\', \\'SEC_FETCH_SITE\\': \\'same-origin\\', \\'SEC_FETCH_USER\\': \\'?1\\', \\'PRIORITY\\': \\'u=0, i\\', \\'Content-Type\\': \\'application/x-www-form-urlencoded\\', \\'User-Agent\\': \\'Mozilla/5.0 (iPod; U; CPU iPhone OS 4_0 like Mac OS X; nn-NO) AppleWebKit/531.5.4 (KHTML, like Gecko) Version/3.0.5 Mobile/8B111 Safari/6531.5.4\\'}, \\'body\\': b\\'csrfmiddlewaretoken=94cca464-d9fe-4ed3-ac18-0d383828ddfb&newpass1=fsIXN4mt&newpass2=Mzy2Jh0O\\'}, \\'control_flow\\': {0: \"search_query = request.args.get(\\'q\\')\", 1: \\'comments = db.get(search_query)\\', 2: \\'db = init()\\', 3: \"db = sqlite3.connect(\\'data.db\\')\", 4: \"db.cursor().execute(\\'CREATE TABLE IF NOT EXISTS comments (id INTEGER PRIMARY KEY, comment TEXT, date TEXT)\\')\", 5: \\'return db\\', 6: \\'results = []\\', 7: \"for(comment, date) in db.cursor().execute(\\'SELECT comment, date FROM comments\\').fetchall():\", 8: \\'if query is None or query in comment:\\', 9: \\'results.append((comment, date))\\', 10: \"for(comment, date) in db.cursor().execute(\\'SELECT comment, date FROM comments\\').fetchall():\", 11: \\'return results\\', 12: \\'form = forms.AddCommentForm()\\', 13: \\'if form.validate_on_submit():\\', 14: \"return render_template(\\'guestbook.html\\', form=form, comments=comments, search_query=search_query)\", 15: \\'\\', 16: \\'<head>\\', 17: \\'<!-- Required meta tags -->\\', 18: \\'<meta charset=\"utf-8\">\\', 19: \\'<meta name=\"viewport\" content=\"width=device-width, initial-scale=1, shrink-to-fit=no\">\\', 20: \\'\\', 21: \\'<title>My Guestbook</title>\\', 22: \\'\\', 23: \\'<!-- Bootstrap CSS -->\\', 24: \\'<link rel=\"stylesheet\" href=\"https://stackpath.bootstrapcdn.com/bootstrap/4.5.0/css/bootstrap.min.css\"\\', 25: \\'integrity=\"sha384-9aIt2nRpC12Uk9gS9baDl411NQApFmC26EwAOH8WgZl5MYYxFfc+NcPb1dKGj7Sk\" crossorigin=\"anonymous\">\\', 26: \\'\\', 27: \\'<!-- Styling -->\\', 28: \\'<link rel=\"stylesheet\" type=\"text/css\" href=\"../static/styles/guestbook.css\">\\', 29: \\'<link rel=\"icon\" type=\"image/x-icon\" href=\"../static/guestbook.ico\">\\', 30: \\'</head>\\', 31: \\'\\', 32: \\'<div class=\"content center\">\\', 33: \\'<div class=\"container-fluid\">\\', 34: \\'<form action=\"{{ url_for(\\\\\\'guestbook\\\\\\') }}\" method=\"post\">\\', 35: \\'{{ form.csrf_token }}\\', 36: \\'<div class=\"row\">\\', 37: \\'<h3 class=\"form-header\">Add a new Guestbook entry 😊</h3>\\', 38: \\'<div class=\"col\">\\', 39: \\'{{ form.comment(class=\"form-control form-comment\") }}\\', 40: \\'</div>\\', 41: \\'<div class=\"col\">\\', 42: \\'\\', 43: \\'<p class=\"search-hint\">Psssst.. you can even <a href=\"{{ url_for(\\\\\\'guestbook\\\\\\', q=\\\\\\'test\\\\\\') }}\"\\', 44: \\'class=\"search-hint-anchor\">search</a> through the\\', 45: \\'comments 🤫</p>\\', 46: \\'\\', 47: \\'{% if not search_query %}\\', 48: \\'<h3 class=\"comment-header\">Current guestbook entries:</h3>\\', 49: \\'{% else %}\\', 50: \\'<h3 class=\"comment-header\">Results for \"{{ search_query }}\"</h3>\\', 51: \\'<p class=\"search-hint\">Psssst.. you can even <a href=\"{{ url_for(\\\\\\'guestbook\\\\\\', q=\\\\\\'test\\\\\\') }}\"\\', 52: \\'{% endif %}\\', 53: \\'\\', 54: \\'{% for comment, date in comments %}\\', 55: \\'<div class=\"comment\">\\'}, \\'response\\': {\\'status_code\\': \\'400\\', \\'headers\\': {\\'Content-Type\\': \\'application/json\\', \\'Content-Length\\': \\'1867\\', \\'Vary\\': \\'Cookie\\'}}}', 'label': 6, '__index_level_0__': 96479, 'request_input_ids': [101, 24471, 2140, 1024, 8299, 1024, 1013, 1013, 7479, 1012, 10337, 1012, 4012, 1013, 2364, 1013, 10439, 1013, 6415, 23393, 2063, 1012, 1044, 21246, 4118, 1024, 3972, 12870, 20346, 2015, 1024, 1063, 1005, 3677, 1005, 1024, 1005, 13029, 1012, 1014, 1012, 1014, 1012, 1015, 1024, 13509, 1005, 1010, 1005, 5310, 1035, 4005, 1005, 1024, 1005, 9587, 5831, 4571, 1013, 1019, 1012, 1014, 1006, 1060, 14526, 1025, 1057, 8569, 3372, 2226, 1025, 11603, 1060, 20842, 1035, 4185, 1025, 27634, 1024, 15170, 1012, 1014, 1007, 16216, 19665, 1013, 2230, 24096, 24096, 2543, 14876, 2595, 1013, 15170, 1012, 1014, 1005, 1010, 1005, 5138, 1005, 1024, 1005, 3793, 1013, 16129, 1010, 4646, 1013, 1060, 11039, 19968, 1009, 20950, 1010, 4646, 1013, 20950, 1025, 1053, 1027, 1014, 1012, 1023, 1010, 1008, 1013, 1008, 1025, 1053, 1027, 1014, 1012, 1022, 1005, 1010, 1005, 5138, 1035, 2653, 1005, 1024, 1005, 4372, 1011, 2149, 1010, 4372, 1025, 1053, 1027, 1014, 1012, 1019, 1005, 1010, 1005, 5138, 1035, 17181, 1005, 1024, 1005, 1043, 5831, 2361, 1010, 13366, 13806, 1010, 7987, 1010, 1062, 3367, 2094, 1005, 1010, 1005, 6523, 2121, 1005, 1024, 1005, 8299, 1024, 1013, 1013, 13029, 1012, 1014, 1012, 1014, 1012, 1015, 1024, 13509, 1013, 4113, 8654, 1005, 1010, 1005, 4434, 1005, 1024, 1005, 2562, 1011, 4142, 1005, 1010, 1005, 17387, 1005, 1024, 1005, 20116, 12881, 18715, 2368, 1027, 1021, 13871, 2497, 4160, 2615, 20850, 2140, 2575, 16050, 2290, 20952, 2226, 2509, 2063, 2575, 15878, 2595, 13699, 2620, 2078, 2629, 2615, 8873, 2615, 2213, 1025, 22160, 5162, 1035, 5219, 1027, 5139, 2278, 2620, 23632, 2063, 2683, 27421, 2475, 2546, 26224, 26976, 2050, 2581, 2278, 2581, 2683, 2487, 12879, 2094, 22407, 2549, 2094, 12521, 2692, 1025, 22160, 5162, 1035, 5219, 1035, 4654, 8197, 2854, 1027, 26063, 2683, 2683, 24087, 16086, 1025, 5310, 1035, 8909, 1027, 1016, 1025, 5219, 1035, 19204, 1027, 1038, 2509, 2278, 2575, 22022, 2278, 2683, 2487, 2063, 16576, 14526, 2278, 2581, 2683, 22610, 2692, 2549, 2050, 2692, 21486, 2683, 15136, 2050, 22022, 2497, 1025, 5219, 1027, 1041, 2100, 3501, 3501, 2278, 2509, 24703, 2595, 2509, 19146, 2475, 19722, 28418, 10448, 2213, 2480, 8950, 4859, 20554, 2078, 3900, 2475, 26876, 14341, 3501, 2094, 3501, 2480, 3501, 5638, 24798, 2072, 2487, 2100, 2480, 2243, 2509, 2078, 16050, 2549, 26876, 10288, 2480, 3501, 2099, 3501, 2100, 2860, 22984, 2213, 2480, 25032, 4890, 3501, 2683, 1012, 1062, 2629, 18259, 2527, 1012, 1053, 2620, 2099, 2549, 4160, 2480, 14540, 2480, 8569, 1011, 1020, 2100, 2692, 2232, 1011, 1060, 2683, 2546, 24087, 2487, 2546, 2078, 2487, 2050, 1005, 1010, 1005, 12200, 1035, 16021, 29150, 1035, 11186, 1005, 1024, 1005, 1015, 1005, 1010, 1005, 10819, 1035, 18584, 1035, 4078, 2102, 1005, 1024, 1005, 6254, 1005, 1010, 1005, 10819, 1035, 18584, 1035, 5549, 1005, 1024, 1005, 22149, 1005, 1010, 1005, 10819, 1035, 18584, 1035, 2609, 1005, 1024, 1005, 2168, 1011, 4761, 1005, 1010, 1005, 10819, 1035, 18584, 1035, 5310, 1005, 1024, 1005, 1029, 1015, 1005, 1010, 1005, 9470, 1005, 1024, 1005, 1057, 1027, 1014, 1010, 1045, 1005, 1010, 1005, 4180, 1011, 2828, 1005, 1024, 1005, 4646, 1013, 1060, 1011, 7479, 1011, 2433, 1011, 24471, 7770, 102], 'request_attention_mask': [1, 1, 1, 1, 1, 1, 1, 1, 1, 1, 1, 1, 1, 1, 1, 1, 1, 1, 1, 1, 1, 1, 1, 1, 1, 1, 1, 1, 1, 1, 1, 1, 1, 1, 1, 1, 1, 1, 1, 1, 1, 1, 1, 1, 1, 1, 1, 1, 1, 1, 1, 1, 1, 1, 1, 1, 1, 1, 1, 1, 1, 1, 1, 1, 1, 1, 1, 1, 1, 1, 1, 1, 1, 1, 1, 1, 1, 1, 1, 1, 1, 1, 1, 1, 1, 1, 1, 1, 1, 1, 1, 1, 1, 1, 1, 1, 1, 1, 1, 1, 1, 1, 1, 1, 1, 1, 1, 1, 1, 1, 1, 1, 1, 1, 1, 1, 1, 1, 1, 1, 1, 1, 1, 1, 1, 1, 1, 1, 1, 1, 1, 1, 1, 1, 1, 1, 1, 1, 1, 1, 1, 1, 1, 1, 1, 1, 1, 1, 1, 1, 1, 1, 1, 1, 1, 1, 1, 1, 1, 1, 1, 1, 1, 1, 1, 1, 1, 1, 1, 1, 1, 1, 1, 1, 1, 1, 1, 1, 1, 1, 1, 1, 1, 1, 1, 1, 1, 1, 1, 1, 1, 1, 1, 1, 1, 1, 1, 1, 1, 1, 1, 1, 1, 1, 1, 1, 1, 1, 1, 1, 1, 1, 1, 1, 1, 1, 1, 1, 1, 1, 1, 1, 1, 1, 1, 1, 1, 1, 1, 1, 1, 1, 1, 1, 1, 1, 1, 1, 1, 1, 1, 1, 1, 1, 1, 1, 1, 1, 1, 1, 1, 1, 1, 1, 1, 1, 1, 1, 1, 1, 1, 1, 1, 1, 1, 1, 1, 1, 1, 1, 1, 1, 1, 1, 1, 1, 1, 1, 1, 1, 1, 1, 1, 1, 1, 1, 1, 1, 1, 1, 1, 1, 1, 1, 1, 1, 1, 1, 1, 1, 1, 1, 1, 1, 1, 1, 1, 1, 1, 1, 1, 1, 1, 1, 1, 1, 1, 1, 1, 1, 1, 1, 1, 1, 1, 1, 1, 1, 1, 1, 1, 1, 1, 1, 1, 1, 1, 1, 1, 1, 1, 1, 1, 1, 1, 1, 1, 1, 1, 1, 1, 1, 1, 1, 1, 1, 1, 1, 1, 1, 1, 1, 1, 1, 1, 1, 1, 1, 1, 1, 1, 1, 1, 1, 1, 1, 1, 1, 1, 1, 1, 1, 1, 1, 1, 1, 1, 1, 1, 1, 1, 1, 1, 1, 1, 1, 1, 1, 1, 1, 1, 1, 1, 1, 1, 1, 1, 1, 1, 1, 1, 1, 1, 1, 1, 1, 1, 1, 1, 1, 1, 1, 1, 1, 1, 1, 1, 1, 1, 1, 1, 1, 1, 1, 1, 1, 1, 1, 1, 1, 1, 1, 1, 1, 1, 1, 1, 1, 1, 1, 1, 1, 1, 1, 1, 1, 1, 1, 1, 1, 1, 1, 1, 1, 1, 1, 1, 1, 1, 1, 1, 1, 1, 1, 1, 1, 1, 1, 1, 1, 1, 1, 1, 1, 1, 1, 1, 1, 1, 1, 1, 1, 1, 1, 1, 1, 1, 1, 1, 1, 1, 1, 1, 1, 1, 1, 1, 1, 1, 1, 1, 1], 'control_flow_input_ids': [101, 1014, 1024, 3945, 1035, 23032, 1027, 5227, 1012, 12098, 5620, 1012, 2131, 1006, 1005, 1053, 1005, 1007, 1015, 1024, 7928, 1027, 16962, 1012, 2131, 1006, 3945, 1035, 23032, 1007, 1016, 1024, 16962, 1027, 1999, 4183, 1006, 1007, 1017, 1024, 16962, 1027, 29296, 4221, 2509, 1012, 7532, 1006, 1005, 2951, 1012, 16962, 1005, 1007, 1018, 1024, 16962, 1012, 12731, 25301, 2099, 1006, 1007, 1012, 15389, 1006, 1005, 3443, 2795, 2065, 2025, 6526, 7928, 1006, 8909, 16109, 3078, 3145, 1010, 7615, 3793, 1010, 3058, 3793, 1007, 1005, 1007, 1019, 1024, 2709, 16962, 1020, 1024, 3463, 1027, 1031, 1033, 1021, 1024, 2005, 1006, 7615, 1010, 3058, 1007, 1999, 16962, 1012, 12731, 25301, 2099, 1006, 1007, 1012, 15389, 1006, 1005, 7276, 7615, 1010, 3058, 2013, 7928, 1005, 1007, 1012, 18584, 8095, 1006, 1007, 1024, 1022, 1024, 2065, 23032, 2003, 3904, 2030, 23032, 1999, 7615, 1024, 1023, 1024, 3463, 1012, 10439, 10497, 1006, 1006, 7615, 1010, 3058, 1007, 1007, 2184, 1024, 2005, 1006, 7615, 1010, 3058, 1007, 1999, 16962, 1012, 12731, 25301, 2099, 1006, 1007, 1012, 15389, 1006, 1005, 7276, 7615, 1010, 3058, 2013, 7928, 1005, 1007, 1012, 18584, 8095, 1006, 1007, 1024, 2340, 1024, 2709, 3463, 2260, 1024, 2433, 1027, 3596, 1012, 5587, 9006, 3672, 14192, 1006, 1007, 2410, 1024, 2065, 2433, 1012, 9398, 3686, 1035, 2006, 1035, 12040, 1006, 1007, 1024, 2403, 1024, 2709, 17552, 1035, 23561, 1006, 1005, 4113, 8654, 1012, 16129, 1005, 1010, 2433, 1027, 2433, 1010, 7928, 1027, 7928, 1010, 3945, 1035, 23032, 1027, 3945, 1035, 23032, 1007, 2321, 1024, 2385, 1024, 1026, 2132, 1028, 2459, 1024, 1026, 999, 1011, 1011, 3223, 18804, 22073, 1011, 1011, 1028, 2324, 1024, 1026, 18804, 25869, 13462, 1027, 1000, 21183, 2546, 1011, 1022, 1000, 1028, 2539, 1024, 1026, 18804, 2171, 1027, 1000, 3193, 6442, 1000, 4180, 1027, 1000, 9381, 1027, 5080, 1011, 9381, 1010, 3988, 1011, 4094, 1027, 1015, 1010, 22802, 1011, 2000, 1011, 4906, 1027, 2053, 1000, 1028, 2322, 1024, 2538, 1024, 1026, 2516, 1028, 2026, 4113, 8654, 1026, 1013, 2516, 1028, 2570, 1024, 2603, 1024, 1026, 999, 1011, 1011, 6879, 6494, 2361, 20116, 2015, 1011, 1011, 1028, 2484, 1024, 1026, 4957, 2128, 2140, 1027, 1000, 6782, 21030, 2102, 1000, 17850, 12879, 1027, 1000, 16770, 1024, 1013, 1013, 9991, 15069, 1012, 6879, 6494, 15042, 2094, 2078, 1012, 4012, 1013, 6879, 6494, 2361, 1013, 1018, 1012, 1019, 1012, 1014, 1013, 20116, 2015, 1013, 6879, 6494, 2361, 1012, 8117, 1012, 20116, 2015, 1000, 2423, 1024, 11109, 1027, 1000, 21146, 22025, 2549, 1011, 1023, 4886, 2102, 2475, 16118, 15042, 12521, 6968, 2683, 5620, 2683, 9024, 2140, 23632, 2487, 2078, 19062, 14376, 12458, 23833, 7974, 7113, 2232, 2620, 27767, 2480, 2140, 2629, 8029, 17275, 4246, 2278, 1009, 13316, 2361, 2497, 2487, 2094, 2243, 2290, 3501, 2581, 6711, 1000, 2892, 10050, 11528, 1027, 1000, 10812, 1000, 1028, 2656, 1024, 2676, 1024, 1026, 999, 1011, 1011, 20724, 1011, 1011, 1028, 2654, 1024, 1026, 4957, 2128, 2140, 1027, 1000, 6782, 21030, 2102, 1000, 2828, 1027, 1000, 3793, 1013, 20116, 2015, 1000, 17850, 12879, 1027, 1000, 1012, 1012, 1013, 10763, 1013, 6782, 1013, 4113, 8654, 1012, 20116, 2015, 1000, 1028, 2756, 102], 'control_flow_attention_mask': [1, 1, 1, 1, 1, 1, 1, 1, 1, 1, 1, 1, 1, 1, 1, 1, 1, 1, 1, 1, 1, 1, 1, 1, 1, 1, 1, 1, 1, 1, 1, 1, 1, 1, 1, 1, 1, 1, 1, 1, 1, 1, 1, 1, 1, 1, 1, 1, 1, 1, 1, 1, 1, 1, 1, 1, 1, 1, 1, 1, 1, 1, 1, 1, 1, 1, 1, 1, 1, 1, 1, 1, 1, 1, 1, 1, 1, 1, 1, 1, 1, 1, 1, 1, 1, 1, 1, 1, 1, 1, 1, 1, 1, 1, 1, 1, 1, 1, 1, 1, 1, 1, 1, 1, 1, 1, 1, 1, 1, 1, 1, 1, 1, 1, 1, 1, 1, 1, 1, 1, 1, 1, 1, 1, 1, 1, 1, 1, 1, 1, 1, 1, 1, 1, 1, 1, 1, 1, 1, 1, 1, 1, 1, 1, 1, 1, 1, 1, 1, 1, 1, 1, 1, 1, 1, 1, 1, 1, 1, 1, 1, 1, 1, 1, 1, 1, 1, 1, 1, 1, 1, 1, 1, 1, 1, 1, 1, 1, 1, 1, 1, 1, 1, 1, 1, 1, 1, 1, 1, 1, 1, 1, 1, 1, 1, 1, 1, 1, 1, 1, 1, 1, 1, 1, 1, 1, 1, 1, 1, 1, 1, 1, 1, 1, 1, 1, 1, 1, 1, 1, 1, 1, 1, 1, 1, 1, 1, 1, 1, 1, 1, 1, 1, 1, 1, 1, 1, 1, 1, 1, 1, 1, 1, 1, 1, 1, 1, 1, 1, 1, 1, 1, 1, 1, 1, 1, 1, 1, 1, 1, 1, 1, 1, 1, 1, 1, 1, 1, 1, 1, 1, 1, 1, 1, 1, 1, 1, 1, 1, 1, 1, 1, 1, 1, 1, 1, 1, 1, 1, 1, 1, 1, 1, 1, 1, 1, 1, 1, 1, 1, 1, 1, 1, 1, 1, 1, 1, 1, 1, 1, 1, 1, 1, 1, 1, 1, 1, 1, 1, 1, 1, 1, 1, 1, 1, 1, 1, 1, 1, 1, 1, 1, 1, 1, 1, 1, 1, 1, 1, 1, 1, 1, 1, 1, 1, 1, 1, 1, 1, 1, 1, 1, 1, 1, 1, 1, 1, 1, 1, 1, 1, 1, 1, 1, 1, 1, 1, 1, 1, 1, 1, 1, 1, 1, 1, 1, 1, 1, 1, 1, 1, 1, 1, 1, 1, 1, 1, 1, 1, 1, 1, 1, 1, 1, 1, 1, 1, 1, 1, 1, 1, 1, 1, 1, 1, 1, 1, 1, 1, 1, 1, 1, 1, 1, 1, 1, 1, 1, 1, 1, 1, 1, 1, 1, 1, 1, 1, 1, 1, 1, 1, 1, 1, 1, 1, 1, 1, 1, 1, 1, 1, 1, 1, 1, 1, 1, 1, 1, 1, 1, 1, 1, 1, 1, 1, 1, 1, 1, 1, 1, 1, 1, 1, 1, 1, 1, 1, 1, 1, 1, 1, 1, 1, 1, 1, 1, 1, 1, 1, 1, 1, 1, 1, 1, 1, 1, 1, 1, 1, 1, 1, 1, 1, 1, 1, 1, 1, 1, 1, 1, 1, 1, 1, 1, 1, 1, 1, 1, 1, 1, 1, 1], 'response_input_ids': [101, 3570, 3642, 1024, 4278, 20346, 2015, 1024, 1063, 1005, 4180, 1011, 2828, 1005, 1024, 1005, 4646, 1013, 1046, 3385, 1005, 1010, 1005, 4180, 1011, 3091, 1005, 1024, 1005, 7517, 1005, 1010, 1005, 8137, 1005, 1024, 1005, 17387, 1005, 1065, 102, 0, 0, 0, 0, 0, 0, 0, 0, 0, 0, 0, 0, 0, 0, 0, 0, 0, 0, 0, 0, 0, 0, 0, 0, 0, 0, 0, 0, 0, 0, 0, 0, 0, 0, 0, 0, 0, 0, 0, 0, 0, 0, 0, 0, 0, 0, 0, 0, 0, 0, 0, 0, 0, 0, 0, 0, 0, 0, 0, 0, 0, 0, 0, 0, 0, 0, 0, 0, 0, 0, 0, 0, 0, 0, 0, 0, 0, 0, 0, 0, 0, 0, 0, 0, 0, 0, 0, 0, 0, 0, 0, 0, 0, 0, 0, 0, 0, 0, 0, 0, 0, 0, 0, 0, 0, 0, 0, 0, 0, 0, 0, 0, 0, 0, 0, 0, 0, 0, 0, 0, 0, 0, 0, 0, 0, 0, 0, 0, 0, 0, 0, 0, 0, 0, 0, 0, 0, 0, 0, 0, 0, 0, 0, 0, 0, 0, 0, 0, 0, 0, 0, 0, 0, 0, 0, 0, 0, 0, 0, 0, 0, 0, 0, 0, 0, 0, 0, 0, 0, 0, 0, 0, 0, 0, 0, 0, 0, 0, 0, 0, 0, 0, 0, 0, 0, 0, 0, 0, 0, 0, 0, 0, 0, 0, 0, 0, 0, 0, 0, 0, 0, 0, 0, 0, 0, 0, 0, 0, 0, 0, 0, 0, 0, 0, 0, 0, 0, 0, 0, 0, 0, 0, 0, 0, 0, 0, 0, 0, 0, 0, 0, 0, 0, 0, 0, 0, 0, 0, 0, 0, 0, 0, 0, 0, 0, 0, 0, 0, 0, 0, 0, 0, 0, 0, 0, 0, 0, 0, 0, 0, 0, 0, 0, 0, 0, 0, 0, 0, 0, 0, 0, 0, 0, 0, 0, 0, 0, 0, 0, 0, 0, 0, 0, 0, 0, 0, 0, 0, 0, 0, 0, 0, 0, 0, 0, 0, 0, 0, 0, 0, 0, 0, 0, 0, 0, 0, 0, 0, 0, 0, 0, 0, 0, 0, 0, 0, 0, 0, 0, 0, 0, 0, 0, 0, 0, 0, 0, 0, 0, 0, 0, 0, 0, 0, 0, 0, 0, 0, 0, 0, 0, 0, 0, 0, 0, 0, 0, 0, 0, 0, 0, 0, 0, 0, 0, 0, 0, 0, 0, 0, 0, 0, 0, 0, 0, 0, 0, 0, 0, 0, 0, 0, 0, 0, 0, 0, 0, 0, 0, 0, 0, 0, 0, 0, 0, 0, 0, 0, 0, 0, 0, 0, 0, 0, 0, 0, 0, 0, 0, 0, 0, 0, 0, 0, 0, 0, 0, 0, 0, 0, 0, 0, 0, 0, 0, 0, 0, 0, 0, 0, 0, 0, 0, 0, 0, 0, 0, 0, 0, 0, 0, 0, 0, 0, 0, 0, 0, 0, 0, 0, 0, 0, 0, 0, 0, 0, 0, 0, 0, 0, 0, 0, 0, 0, 0, 0, 0, 0, 0, 0, 0, 0, 0, 0, 0, 0, 0, 0, 0, 0, 0], 'response_attention_mask': [1, 1, 1, 1, 1, 1, 1, 1, 1, 1, 1, 1, 1, 1, 1, 1, 1, 1, 1, 1, 1, 1, 1, 1, 1, 1, 1, 1, 1, 1, 1, 1, 1, 1, 1, 1, 1, 1, 1, 1, 1, 0, 0, 0, 0, 0, 0, 0, 0, 0, 0, 0, 0, 0, 0, 0, 0, 0, 0, 0, 0, 0, 0, 0, 0, 0, 0, 0, 0, 0, 0, 0, 0, 0, 0, 0, 0, 0, 0, 0, 0, 0, 0, 0, 0, 0, 0, 0, 0, 0, 0, 0, 0, 0, 0, 0, 0, 0, 0, 0, 0, 0, 0, 0, 0, 0, 0, 0, 0, 0, 0, 0, 0, 0, 0, 0, 0, 0, 0, 0, 0, 0, 0, 0, 0, 0, 0, 0, 0, 0, 0, 0, 0, 0, 0, 0, 0, 0, 0, 0, 0, 0, 0, 0, 0, 0, 0, 0, 0, 0, 0, 0, 0, 0, 0, 0, 0, 0, 0, 0, 0, 0, 0, 0, 0, 0, 0, 0, 0, 0, 0, 0, 0, 0, 0, 0, 0, 0, 0, 0, 0, 0, 0, 0, 0, 0, 0, 0, 0, 0, 0, 0, 0, 0, 0, 0, 0, 0, 0, 0, 0, 0, 0, 0, 0, 0, 0, 0, 0, 0, 0, 0, 0, 0, 0, 0, 0, 0, 0, 0, 0, 0, 0, 0, 0, 0, 0, 0, 0, 0, 0, 0, 0, 0, 0, 0, 0, 0, 0, 0, 0, 0, 0, 0, 0, 0, 0, 0, 0, 0, 0, 0, 0, 0, 0, 0, 0, 0, 0, 0, 0, 0, 0, 0, 0, 0, 0, 0, 0, 0, 0, 0, 0, 0, 0, 0, 0, 0, 0, 0, 0, 0, 0, 0, 0, 0, 0, 0, 0, 0, 0, 0, 0, 0, 0, 0, 0, 0, 0, 0, 0, 0, 0, 0, 0, 0, 0, 0, 0, 0, 0, 0, 0, 0, 0, 0, 0, 0, 0, 0, 0, 0, 0, 0, 0, 0, 0, 0, 0, 0, 0, 0, 0, 0, 0, 0, 0, 0, 0, 0, 0, 0, 0, 0, 0, 0, 0, 0, 0, 0, 0, 0, 0, 0, 0, 0, 0, 0, 0, 0, 0, 0, 0, 0, 0, 0, 0, 0, 0, 0, 0, 0, 0, 0, 0, 0, 0, 0, 0, 0, 0, 0, 0, 0, 0, 0, 0, 0, 0, 0, 0, 0, 0, 0, 0, 0, 0, 0, 0, 0, 0, 0, 0, 0, 0, 0, 0, 0, 0, 0, 0, 0, 0, 0, 0, 0, 0, 0, 0, 0, 0, 0, 0, 0, 0, 0, 0, 0, 0, 0, 0, 0, 0, 0, 0, 0, 0, 0, 0, 0, 0, 0, 0, 0, 0, 0, 0, 0, 0, 0, 0, 0, 0, 0, 0, 0, 0, 0, 0, 0, 0, 0, 0, 0, 0, 0, 0, 0, 0, 0, 0, 0, 0, 0, 0, 0, 0, 0, 0, 0, 0, 0, 0, 0, 0, 0, 0, 0, 0, 0, 0, 0, 0, 0, 0, 0, 0, 0, 0, 0, 0, 0, 0, 0, 0, 0, 0, 0, 0, 0, 0, 0]}\n"
     ]
    }
   ],
   "source": [
    "tokenized_dataset = dataset.map(preprocess, batched=False)\n",
    "print(tokenized_dataset[\"train\"][0])"
   ]
  },
  {
   "cell_type": "markdown",
   "id": "02201d71-8b72-4dd3-98f6-38310d964b9c",
   "metadata": {},
   "source": [
    "Создаем функцию для преобразования данных в тензоры:"
   ]
  },
  {
   "cell_type": "code",
   "execution_count": 11,
   "id": "35752dc7-806c-4951-9e26-bd175628e0cb",
   "metadata": {},
   "outputs": [],
   "source": [
    "def collate_fn(batch):\n",
    "    def to_tensor(item_list):\n",
    "        if isinstance(item_list[0], torch.Tensor):\n",
    "            return torch.stack(item_list)\n",
    "        return torch.tensor(item_list)\n",
    "\n",
    "    return {\n",
    "        \"request_input_ids\": to_tensor([item[\"request_input_ids\"] for item in batch]),\n",
    "        \"request_attention_mask\": to_tensor([item[\"request_attention_mask\"] for item in batch]),\n",
    "        \"control_flow_input_ids\": to_tensor([item[\"control_flow_input_ids\"] for item in batch]),\n",
    "        \"control_flow_attention_mask\": to_tensor([item[\"control_flow_attention_mask\"] for item in batch]),\n",
    "        \"response_input_ids\": to_tensor([item[\"response_input_ids\"] for item in batch]),\n",
    "        \"response_attention_mask\": to_tensor([item[\"response_attention_mask\"] for item in batch]),\n",
    "        \"label\": to_tensor([item[\"label\"] for item in batch])\n",
    "    }"
   ]
  },
  {
   "cell_type": "markdown",
   "id": "053ba86b-ced2-4c74-bc39-835d6b5f67e0",
   "metadata": {},
   "source": [
    "Создаём DataLoader с collate_fn:"
   ]
  },
  {
   "cell_type": "code",
   "execution_count": 12,
   "id": "b1ccfe2d-25a4-4b07-b836-271db6458539",
   "metadata": {},
   "outputs": [],
   "source": [
    "train_dataloader = DataLoader(tokenized_dataset[\"train\"], batch_size=16, shuffle=True, collate_fn=collate_fn)\n",
    "val_dataloader = DataLoader(tokenized_dataset[\"validation\"], batch_size=16, collate_fn=collate_fn)"
   ]
  },
  {
   "cell_type": "markdown",
   "id": "8526a1e9-e4fc-4639-b028-9aa8e8520e71",
   "metadata": {},
   "source": [
    "Создаем модифицированную архитектуру модели машинного обучения на базе BERT. Модель BERT используется для извлечения признаков из запроса, ответа и потока управления. Далее эти признаки объединяются через линейный слой для классификации уязвимостей. Так как длина данных о запросе, ответе или потоке управления может превышать лимит модели BERT (512 токенов), они обрабатываются моделью BERT по отдельности."
   ]
  },
  {
   "cell_type": "code",
   "execution_count": 13,
   "id": "fbcc7f96-5264-4210-abf8-db6dd2929d9f",
   "metadata": {},
   "outputs": [],
   "source": [
    "import torch\n",
    "import torch.nn as nn\n",
    "from transformers import BertModel\n",
    "\n",
    "class IAST_BERT(nn.Module):\n",
    "    def __init__(self, bert_model_name=\"bert-base-uncased\", num_classes=10, dropout_prob=0.5):\n",
    "        super(IAST_BERT, self).__init__()\n",
    "        self.bert = BertModel.from_pretrained(bert_model_name)\n",
    "        self.dropout = nn.Dropout(dropout_prob)\n",
    "        self.fc_request = nn.Linear(768, 256)\n",
    "        self.fc_control_flow = nn.Linear(768, 256)\n",
    "        self.fc_response = nn.Linear(768, 256)\n",
    "        self.fc_final = nn.Linear(256 * 3, num_classes)\n",
    "\n",
    "    def forward(self, request_input, request_mask, control_flow_input, control_flow_mask, response_input, response_mask):\n",
    "        # Request\n",
    "        request_outputs = self.bert(input_ids=request_input, attention_mask=request_mask)\n",
    "        request_features = torch.mean(request_outputs.last_hidden_state, dim=1)  # Среднее по последнему слою\n",
    "        request_features = self.fc_request(self.dropout(request_features))\n",
    "\n",
    "        # Control Flow\n",
    "        control_flow_outputs = self.bert(input_ids=control_flow_input, attention_mask=control_flow_mask)\n",
    "        control_flow_features = torch.mean(control_flow_outputs.last_hidden_state, dim=1)\n",
    "        control_flow_features = self.fc_control_flow(self.dropout(control_flow_features))\n",
    "\n",
    "        # Response\n",
    "        response_outputs = self.bert(input_ids=response_input, attention_mask=response_mask)\n",
    "        response_features = torch.mean(response_outputs.last_hidden_state, dim=1)\n",
    "        response_features = self.fc_response(self.dropout(response_features))\n",
    "\n",
    "        # Объединение\n",
    "        combined_features = torch.cat([request_features, control_flow_features, response_features], dim=1)\n",
    "        logits = self.fc_final(self.dropout(combined_features))\n",
    "\n",
    "        return logits"
   ]
  },
  {
   "cell_type": "markdown",
   "id": "928e1908-7800-45dd-95e6-7d0f90d51eda",
   "metadata": {},
   "source": [
    "## Обучение модели"
   ]
  },
  {
   "cell_type": "markdown",
   "id": "cc8ef8a2-85b0-4eba-ab09-4ddfe5d4fd44",
   "metadata": {},
   "source": [
    "Создается экземпляр модели `IAST_BERT`, который затем переносится на выбранное устройство. Далее настраивается оптимизатор `AdamW` для обновления параметров модели, и выбирается функция потерь `CrossEntropyLoss` для оценки качества классификации:"
   ]
  },
  {
   "cell_type": "code",
   "execution_count": 14,
   "id": "8de54141-4d90-436b-9271-783992b39191",
   "metadata": {},
   "outputs": [
    {
     "name": "stderr",
     "output_type": "stream",
     "text": [
      "/root/notebook/venv/lib/python3.10/site-packages/transformers/optimization.py:591: FutureWarning: This implementation of AdamW is deprecated and will be removed in a future version. Use the PyTorch implementation torch.optim.AdamW instead, or set `no_deprecation_warning=True` to disable this warning\n",
      "  warnings.warn(\n"
     ]
    }
   ],
   "source": [
    "from transformers import AdamW\n",
    "from torch.optim.lr_scheduler import StepLR\n",
    "from sklearn.utils.class_weight import compute_class_weight\n",
    "import numpy as np\n",
    "\n",
    "class_labels = list(id2label.values())\n",
    "class_weights = compute_class_weight(\"balanced\", classes=np.unique(class_labels), y=class_labels)\n",
    "class_weights = torch.tensor(class_weights, dtype=torch.float).to(device)\n",
    "\n",
    "model = IAST_BERT()\n",
    "model = model.to(device)\n",
    "\n",
    "# Заморозка BERT\n",
    "for param in model.bert.parameters():\n",
    "    param.requires_grad = False\n",
    "\n",
    "optimizer = AdamW(model.parameters(), lr=3e-5, weight_decay=1e-4)\n",
    "criterion = nn.CrossEntropyLoss(weight=class_weights)\n",
    "scheduler = StepLR(optimizer, step_size=2, gamma=0.1)"
   ]
  },
  {
   "cell_type": "markdown",
   "id": "e5eb4736-2c6d-4a9c-b686-103985c85ccf",
   "metadata": {},
   "source": [
    "Отображаем иерархию модулей модели:"
   ]
  },
  {
   "cell_type": "code",
   "execution_count": 15,
   "id": "17244546-7c55-43c6-b66b-c70b36117fcb",
   "metadata": {},
   "outputs": [
    {
     "data": {
      "text/plain": [
       "IAST_BERT(\n",
       "  (bert): BertModel(\n",
       "    (embeddings): BertEmbeddings(\n",
       "      (word_embeddings): Embedding(30522, 768, padding_idx=0)\n",
       "      (position_embeddings): Embedding(512, 768)\n",
       "      (token_type_embeddings): Embedding(2, 768)\n",
       "      (LayerNorm): LayerNorm((768,), eps=1e-12, elementwise_affine=True)\n",
       "      (dropout): Dropout(p=0.1, inplace=False)\n",
       "    )\n",
       "    (encoder): BertEncoder(\n",
       "      (layer): ModuleList(\n",
       "        (0-11): 12 x BertLayer(\n",
       "          (attention): BertAttention(\n",
       "            (self): BertSdpaSelfAttention(\n",
       "              (query): Linear(in_features=768, out_features=768, bias=True)\n",
       "              (key): Linear(in_features=768, out_features=768, bias=True)\n",
       "              (value): Linear(in_features=768, out_features=768, bias=True)\n",
       "              (dropout): Dropout(p=0.1, inplace=False)\n",
       "            )\n",
       "            (output): BertSelfOutput(\n",
       "              (dense): Linear(in_features=768, out_features=768, bias=True)\n",
       "              (LayerNorm): LayerNorm((768,), eps=1e-12, elementwise_affine=True)\n",
       "              (dropout): Dropout(p=0.1, inplace=False)\n",
       "            )\n",
       "          )\n",
       "          (intermediate): BertIntermediate(\n",
       "            (dense): Linear(in_features=768, out_features=3072, bias=True)\n",
       "            (intermediate_act_fn): GELUActivation()\n",
       "          )\n",
       "          (output): BertOutput(\n",
       "            (dense): Linear(in_features=3072, out_features=768, bias=True)\n",
       "            (LayerNorm): LayerNorm((768,), eps=1e-12, elementwise_affine=True)\n",
       "            (dropout): Dropout(p=0.1, inplace=False)\n",
       "          )\n",
       "        )\n",
       "      )\n",
       "    )\n",
       "    (pooler): BertPooler(\n",
       "      (dense): Linear(in_features=768, out_features=768, bias=True)\n",
       "      (activation): Tanh()\n",
       "    )\n",
       "  )\n",
       "  (dropout): Dropout(p=0.5, inplace=False)\n",
       "  (fc_request): Linear(in_features=768, out_features=256, bias=True)\n",
       "  (fc_control_flow): Linear(in_features=768, out_features=256, bias=True)\n",
       "  (fc_response): Linear(in_features=768, out_features=256, bias=True)\n",
       "  (fc_final): Linear(in_features=768, out_features=10, bias=True)\n",
       ")"
      ]
     },
     "execution_count": 15,
     "metadata": {},
     "output_type": "execute_result"
    }
   ],
   "source": [
    "model"
   ]
  },
  {
   "cell_type": "markdown",
   "id": "170667e6-8c23-428a-ba9f-05bb9e9026da",
   "metadata": {},
   "source": [
    "Цикл обучения модели:"
   ]
  },
  {
   "cell_type": "code",
   "execution_count": 16,
   "id": "88fad05d-5a51-42e9-8704-587224a0f799",
   "metadata": {},
   "outputs": [
    {
     "name": "stdout",
     "output_type": "stream",
     "text": [
      "Epoch 1, Loss: 0.6308402483882871\n",
      "Epoch 2, Loss: 0.2294668198557264\n",
      "Epoch 3, Loss: 0.11586985204140525\n"
     ]
    }
   ],
   "source": [
    "epochs = 3\n",
    "\n",
    "for epoch in range(epochs):\n",
    "    model.train()\n",
    "    total_loss = 0\n",
    "    for batch in train_dataloader:\n",
    "        # Перемещаем данные на GPU\n",
    "        inputs = {\n",
    "            \"request_input\": batch[\"request_input_ids\"].to(device),\n",
    "            \"request_mask\": batch[\"request_attention_mask\"].to(device),\n",
    "            \"control_flow_input\": batch[\"control_flow_input_ids\"].to(device),\n",
    "            \"control_flow_mask\": batch[\"control_flow_attention_mask\"].to(device),\n",
    "            \"response_input\": batch[\"response_input_ids\"].to(device),\n",
    "            \"response_mask\": batch[\"response_attention_mask\"].to(device),\n",
    "        }\n",
    "        labels = batch[\"label\"].to(device)\n",
    "\n",
    "        # Обнуляем градиенты\n",
    "        optimizer.zero_grad()\n",
    "\n",
    "        # Прямой проход\n",
    "        logits = model(**inputs)\n",
    "\n",
    "        # Вычисляем loss\n",
    "        loss = criterion(logits, labels)\n",
    "\n",
    "        # Обратный проход\n",
    "        loss.backward()\n",
    "        optimizer.step()\n",
    "\n",
    "        total_loss += loss.item()\n",
    "    print(f\"Epoch {epoch + 1}, Loss: {total_loss / len(train_dataloader)}\")"
   ]
  },
  {
   "cell_type": "markdown",
   "id": "d8a97458-8181-47de-af73-a14294beaa5a",
   "metadata": {},
   "source": [
    "## Валидация модели"
   ]
  },
  {
   "cell_type": "markdown",
   "id": "c459b6b1-958e-494e-aab3-af05a86e85a7",
   "metadata": {},
   "source": [
    "Оцениваем обученную модель на валидационном датасете. Модель переводится в режим оценки (`model.eval()`), затем данные проходят через модель без вычисления градиентов (`torch.no_grad()`). Для каждого батча вычисляются логиты и предсказания, после чего они сохраняются вместе с истинными метками. В конце выводится сообщение о завершении процесса оценки."
   ]
  },
  {
   "cell_type": "code",
   "execution_count": 17,
   "id": "ea198787-c418-4812-9131-c9ec4c44a635",
   "metadata": {},
   "outputs": [
    {
     "data": {
      "application/vnd.jupyter.widget-view+json": {
       "model_id": "c6e65d0f1f5646bbbda740cd0b3afe51",
       "version_major": 2,
       "version_minor": 0
      },
      "text/plain": [
       "Evaluating:   0%|          | 0/1896 [00:00<?, ?it/s]"
      ]
     },
     "metadata": {},
     "output_type": "display_data"
    },
    {
     "name": "stdout",
     "output_type": "stream",
     "text": [
      "Оценка завершена.\n"
     ]
    }
   ],
   "source": [
    "from sklearn.metrics import classification_report, accuracy_score, precision_recall_fscore_support\n",
    "import torch\n",
    "import numpy as np\n",
    "from tqdm.notebook import tqdm\n",
    "\n",
    "# Перевод модели в режим оценки\n",
    "model.eval()\n",
    "\n",
    "# Переменные для хранения меток\n",
    "all_labels = []\n",
    "all_predictions = []\n",
    "\n",
    "# Оценка на валидационном датасете\n",
    "with torch.no_grad():\n",
    "    for batch in tqdm(val_dataloader, desc=\"Evaluating\"):\n",
    "        # Перенос данных на устройство (CPU/GPU)\n",
    "        inputs = {\n",
    "            \"request_input\": batch[\"request_input_ids\"].to(device),\n",
    "            \"request_mask\": batch[\"request_attention_mask\"].to(device),\n",
    "            \"control_flow_input\": batch[\"control_flow_input_ids\"].to(device),\n",
    "            \"control_flow_mask\": batch[\"control_flow_attention_mask\"].to(device),\n",
    "            \"response_input\": batch[\"response_input_ids\"].to(device),\n",
    "            \"response_mask\": batch[\"response_attention_mask\"].to(device),\n",
    "        }\n",
    "        labels = batch[\"label\"].to(device)\n",
    "\n",
    "        # Прогон данных через модель\n",
    "        logits = model(**inputs)\n",
    "        predictions = torch.argmax(logits, dim=1)\n",
    "\n",
    "        # Сохранение истинных меток и предсказаний\n",
    "        all_labels.extend(labels.cpu().numpy())\n",
    "        all_predictions.extend(predictions.cpu().numpy())\n",
    "\n",
    "print(\"Оценка завершена.\")"
   ]
  },
  {
   "cell_type": "markdown",
   "id": "c32a0fa3-d766-4091-a27a-b4ae82f4af1e",
   "metadata": {},
   "source": [
    "Рассчитываем метрики точности (`Accuracy`), полноты (`Precision`), чувствительности (`Recall`) и гармонизированный показатель F1 (`F1-Score`):"
   ]
  },
  {
   "cell_type": "code",
   "execution_count": 18,
   "id": "16ca06b4-9329-4440-8149-240d40922377",
   "metadata": {},
   "outputs": [
    {
     "name": "stdout",
     "output_type": "stream",
     "text": [
      "Accuracy: 1.0000\n",
      "Precision: 1.0000\n",
      "Recall: 1.0000\n",
      "F1-Score: 1.0000\n"
     ]
    }
   ],
   "source": [
    "accuracy = accuracy_score(all_labels, all_predictions)\n",
    "precision, recall, f1, _ = precision_recall_fscore_support(all_labels, all_predictions, average=\"weighted\")\n",
    "\n",
    "print(f\"Accuracy: {accuracy:.4f}\")\n",
    "print(f\"Precision: {precision:.4f}\")\n",
    "print(f\"Recall: {recall:.4f}\")\n",
    "print(f\"F1-Score: {f1:.4f}\")"
   ]
  },
  {
   "cell_type": "markdown",
   "id": "b6c8f40e-b2ad-41e2-9f60-1f538bf4f0e4",
   "metadata": {},
   "source": [
    "Формируем отчет о классификации:"
   ]
  },
  {
   "cell_type": "code",
   "execution_count": 19,
   "id": "023ca5c3-f0b0-4f0e-8c45-9544225f435d",
   "metadata": {},
   "outputs": [
    {
     "name": "stdout",
     "output_type": "stream",
     "text": [
      "Отчёт о классификации:\n",
      "              precision    recall  f1-score   support\n",
      "\n",
      "      CWE-16       1.00      1.00      1.00       384\n",
      "     CWE-352       1.00      1.00      1.00       192\n",
      "     CWE-400       1.00      1.00      1.00      6528\n",
      "     CWE-502       1.00      1.00      1.00      1344\n",
      "     CWE-639       1.00      1.00      1.00      1152\n",
      "      CWE-77       1.00      1.00      1.00       768\n",
      "      CWE-79       1.00      1.00      1.00      3456\n",
      "      CWE-89       1.00      1.00      1.00      1920\n",
      "     CWE-918       1.00      1.00      1.00       768\n",
      "       Clean       1.00      1.00      1.00     13824\n",
      "\n",
      "    accuracy                           1.00     30336\n",
      "   macro avg       1.00      1.00      1.00     30336\n",
      "weighted avg       1.00      1.00      1.00     30336\n",
      "\n"
     ]
    }
   ],
   "source": [
    "class_report = classification_report(all_labels, all_predictions, target_names=unique_labels)\n",
    "print(\"Отчёт о классификации:\")\n",
    "print(class_report)"
   ]
  },
  {
   "cell_type": "markdown",
   "id": "c08c231c-d5a5-4ed9-8b34-3dd8e7cdbf16",
   "metadata": {},
   "source": [
    "Строим матрицу ошибок, используя результаты предсказаний и истинные метки. Матрица ошибок нормализована, чтобы значения были в пределах от 0 до 1. Затем отображаем её с помощью библиотеки Matplotlib:"
   ]
  },
  {
   "cell_type": "code",
   "execution_count": 20,
   "id": "ae079a3d-e848-4233-9723-ccdf73bb79e9",
   "metadata": {},
   "outputs": [
    {
     "data": {
      "image/png": "[encoded data removed]",
      "text/plain": [
       "<Figure size 640x480 with 2 Axes>"
      ]
     },
     "metadata": {},
     "output_type": "display_data"
    }
   ],
   "source": [
    "import matplotlib.pyplot as plt\n",
    "from sklearn.metrics import confusion_matrix, ConfusionMatrixDisplay\n",
    "\n",
    "# Построение матрицы ошибок\n",
    "cm = confusion_matrix(all_labels, all_predictions, normalize=\"true\")\n",
    "labels = unique_labels  # Названия классов\n",
    "\n",
    "# Отображение\n",
    "disp = ConfusionMatrixDisplay(confusion_matrix=cm, display_labels=labels)\n",
    "disp.plot(cmap=plt.cm.Blues, xticks_rotation=\"vertical\")\n",
    "plt.title(\"Матрица ошибок\")\n",
    "plt.show()"
   ]
  },
  {
   "cell_type": "markdown",
   "id": "df71458d-24dd-49cd-8708-0bed1c73466d",
   "metadata": {},
   "source": [
    "Вычисляем F1-Score для каждого класса:"
   ]
  },
  {
   "cell_type": "code",
   "execution_count": 21,
   "id": "edc777f3-a7cc-441d-938b-cbf8c8269bdf",
   "metadata": {},
   "outputs": [
    {
     "data": {
      "image/png": "[encoded data removed]",
      "text/plain": [
       "<Figure size 1000x600 with 1 Axes>"
      ]
     },
     "metadata": {},
     "output_type": "display_data"
    }
   ],
   "source": [
    "_, _, f1_per_class, _ = precision_recall_fscore_support(all_labels, all_predictions, average=None)\n",
    "\n",
    "plt.figure(figsize=(10, 6))\n",
    "plt.bar(labels, f1_per_class)\n",
    "plt.title(\"F1-Score по классам\")\n",
    "plt.ylabel(\"F1-Score\")\n",
    "plt.xticks(rotation=45, ha=\"right\")\n",
    "plt.grid(axis=\"y\", linestyle=\"--\", alpha=0.7)\n",
    "plt.show()"
   ]
  },
  {
   "cell_type": "markdown",
   "id": "c0a43970-5da2-4b6f-8292-69f97cb84837",
   "metadata": {},
   "source": [
    "## Публикация модели на Hugging Face"
   ]
  },
  {
   "cell_type": "markdown",
   "id": "83445608-1590-441a-9c93-e0d791de1f11",
   "metadata": {},
   "source": [
    "Авторизация в Hugging Face Hub:"
   ]
  },
  {
   "cell_type": "code",
   "execution_count": 23,
   "id": "06fe72ea-33e1-4062-b843-af22aeea7242",
   "metadata": {},
   "outputs": [
    {
     "data": {
      "application/vnd.jupyter.widget-view+json": {
       "model_id": "17f004b37b0f4971af2e488a5f6aec53",
       "version_major": 2,
       "version_minor": 0
      },
      "text/plain": [
       "VBox(children=(HTML(value='<center> <img\\nsrc=https://huggingface.co/front/assets/huggingface_logo-noborder.sv…"
      ]
     },
     "metadata": {},
     "output_type": "display_data"
    }
   ],
   "source": [
    "from huggingface_hub import notebook_login\n",
    "\n",
    "notebook_login()"
   ]
  },
  {
   "cell_type": "markdown",
   "id": "f2c163fc-7238-49e1-a770-e82e4375604a",
   "metadata": {},
   "source": [
    "Сохраняем конфигурацию и веса обученной модели:"
   ]
  },
  {
   "cell_type": "code",
   "execution_count": 24,
   "id": "46675207-d3b0-41a2-9971-ec3324060483",
   "metadata": {},
   "outputs": [],
   "source": [
    "import os\n",
    "\n",
    "# Создание директории, если её нет\n",
    "os.makedirs(\"my_model\", exist_ok=True)\n",
    "\n",
    "# Сохранение весов модели\n",
    "torch.save(model.state_dict(), \"my_model/pytorch_model.bin\")\n",
    "\n",
    "# Сохранение конфигурации\n",
    "config = {\n",
    "    \"num_classes\": len(label2id),  # Число классов\n",
    "    \"bert_model_name\": \"bert-base-uncased\",  # Используемая основная модель\n",
    "}\n",
    "with open(\"my_model/config.json\", \"w\") as f:\n",
    "    import json\n",
    "    json.dump(config, f)"
   ]
  },
  {
   "cell_type": "markdown",
   "id": "8ebaad94-c070-44be-beef-44572082c707",
   "metadata": {},
   "source": [
    "Сохраняем токенизатор:"
   ]
  },
  {
   "cell_type": "code",
   "execution_count": 25,
   "id": "570b7f57-8460-4a57-89bb-d6f8b56ce360",
   "metadata": {},
   "outputs": [
    {
     "data": {
      "text/plain": [
       "('my_model/tokenizer_config.json',\n",
       " 'my_model/special_tokens_map.json',\n",
       " 'my_model/vocab.txt',\n",
       " 'my_model/added_tokens.json')"
      ]
     },
     "execution_count": 25,
     "metadata": {},
     "output_type": "execute_result"
    }
   ],
   "source": [
    "tokenizer.save_pretrained(\"my_model\")"
   ]
  },
  {
   "cell_type": "markdown",
   "id": "0dd96034-0618-4b66-b014-02510119e849",
   "metadata": {},
   "source": [
    "Выгружаем обученную модель и токенизатор на Hugging Face Hub:"
   ]
  },
  {
   "cell_type": "code",
   "execution_count": 26,
   "id": "e0396fcf-917f-45dc-b9f6-370f91ef9d0c",
   "metadata": {},
   "outputs": [
    {
     "data": {
      "application/vnd.jupyter.widget-view+json": {
       "model_id": "2076ebf3b76949c88f35b4be0d46c3e4",
       "version_major": 2,
       "version_minor": 0
      },
      "text/plain": [
       "pytorch_model.bin:   0%|          | 0.00/440M [00:00<?, ?B/s]"
      ]
     },
     "metadata": {},
     "output_type": "display_data"
    },
    {
     "name": "stderr",
     "output_type": "stream",
     "text": [
      "No files have been modified since last commit. Skipping to prevent empty commit.\n"
     ]
    },
    {
     "data": {
      "text/plain": [
       "CommitInfo(commit_url='https://huggingface.co/l1ghth4t/immunity/commit/bdc2633687412805b0e8cbb2df77d7518994b6cf', commit_message='Upload folder using huggingface_hub', commit_description='', oid='bdc2633687412805b0e8cbb2df77d7518994b6cf', pr_url=None, repo_url=RepoUrl('https://huggingface.co/l1ghth4t/immunity', endpoint='https://huggingface.co', repo_type='model', repo_id='l1ghth4t/immunity'), pr_revision=None, pr_num=None)"
      ]
     },
     "execution_count": 26,
     "metadata": {},
     "output_type": "execute_result"
    }
   ],
   "source": [
    "from huggingface_hub import HfApi\n",
    "\n",
    "api = HfApi()\n",
    "\n",
    "# Загрузка весов модели\n",
    "api.upload_file(\n",
    "    path_or_fileobj=\"my_model/pytorch_model.bin\",\n",
    "    path_in_repo=\"pytorch_model.bin\",\n",
    "    repo_id=\"l1ghth4t/immunity\"\n",
    ")\n",
    "\n",
    "# Загрузка конфигурации\n",
    "api.upload_file(\n",
    "    path_or_fileobj=\"my_model/config.json\",\n",
    "    path_in_repo=\"config.json\",\n",
    "    repo_id=\"l1ghth4t/immunity\"\n",
    ")\n",
    "\n",
    "# Загрузка токенизатора\n",
    "api.upload_folder(\n",
    "    folder_path=\"my_model\",\n",
    "    repo_id=\"l1ghth4t/immunity\"\n",
    ")"
   ]
  },
  {
   "cell_type": "code",
   "execution_count": null,
   "id": "378db95a-4710-41da-8626-d9e816bd47e3",
   "metadata": {},
   "outputs": [],
   "source": []
  }
 ],
 "metadata": {
  "kernelspec": {
   "display_name": "Python 3 (ipykernel)",
   "language": "python",
   "name": "python3"
  },
  "language_info": {
   "codemirror_mode": {
    "name": "ipython",
    "version": 3
   },
   "file_extension": ".py",
   "mimetype": "text/x-python",
   "name": "python",
   "nbconvert_exporter": "python",
   "pygments_lexer": "ipython3",
   "version": "3.10.12"
  }
 },
 "nbformat": 4,
 "nbformat_minor": 5
}
